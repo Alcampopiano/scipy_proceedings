{
 "cells": [
  {
   "cell_type": "code",
   "execution_count": null,
   "id": "71036676-80d2-42e3-b732-fd540ed212e7",
   "metadata": {},
   "outputs": [],
   "source": []
  }
 ],
 "metadata": {
  "kernelspec": {
   "display_name": "grmx21v1Py38",
   "language": "python",
   "name": "grmx21v1"
  },
  "language_info": {
   "codemirror_mode": {
    "name": "ipython",
    "version": 3
   },
   "file_extension": ".py",
   "mimetype": "text/x-python",
   "name": "python",
   "nbconvert_exporter": "python",
   "pygments_lexer": "ipython3",
   "version": "3.8.10"
  }
 },
 "nbformat": 4,
 "nbformat_minor": 5
}
